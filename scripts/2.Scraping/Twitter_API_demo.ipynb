{
  "nbformat": 4,
  "nbformat_minor": 0,
  "metadata": {
    "colab": {
      "name": "Twitter_API_demo.ipynb",
      "provenance": [],
      "collapsed_sections": []
    },
    "kernelspec": {
      "name": "python3",
      "display_name": "Python 3"
    },
    "language_info": {
      "name": "python"
    }
  },
  "cells": [
    {
      "cell_type": "markdown",
      "source": [
        "## 0. Preparation\n",
        "\n",
        "You have to move the API keys (in a .csv file) into the working folder (use the panel on the left) "
      ],
      "metadata": {
        "id": "chEt2JOIePz0"
      }
    },
    {
      "cell_type": "markdown",
      "source": [
        "## 1. TwitterAPI package"
      ],
      "metadata": {
        "id": "fFbkpE-5grPF"
      }
    },
    {
      "cell_type": "code",
      "source": [
        "!pip install TwitterAPI"
      ],
      "metadata": {
        "id": "i1-vZSmvDUbc",
        "outputId": "8e3ddac1-3fd2-4204-93a0-e8da04037ac3",
        "colab": {
          "base_uri": "https://localhost:8080/"
        }
      },
      "execution_count": 1,
      "outputs": [
        {
          "output_type": "stream",
          "name": "stdout",
          "text": [
            "Collecting TwitterAPI\n",
            "  Downloading TwitterAPI-2.7.12.tar.gz (12 kB)\n",
            "Requirement already satisfied: requests in /usr/local/lib/python3.7/dist-packages (from TwitterAPI) (2.23.0)\n",
            "Requirement already satisfied: requests_oauthlib in /usr/local/lib/python3.7/dist-packages (from TwitterAPI) (1.3.1)\n",
            "Requirement already satisfied: chardet<4,>=3.0.2 in /usr/local/lib/python3.7/dist-packages (from requests->TwitterAPI) (3.0.4)\n",
            "Requirement already satisfied: urllib3!=1.25.0,!=1.25.1,<1.26,>=1.21.1 in /usr/local/lib/python3.7/dist-packages (from requests->TwitterAPI) (1.24.3)\n",
            "Requirement already satisfied: idna<3,>=2.5 in /usr/local/lib/python3.7/dist-packages (from requests->TwitterAPI) (2.10)\n",
            "Requirement already satisfied: certifi>=2017.4.17 in /usr/local/lib/python3.7/dist-packages (from requests->TwitterAPI) (2021.10.8)\n",
            "Requirement already satisfied: oauthlib>=3.0.0 in /usr/local/lib/python3.7/dist-packages (from requests_oauthlib->TwitterAPI) (3.2.0)\n",
            "Building wheels for collected packages: TwitterAPI\n",
            "  Building wheel for TwitterAPI (setup.py) ... \u001b[?25l\u001b[?25hdone\n",
            "  Created wheel for TwitterAPI: filename=TwitterAPI-2.7.12-py3-none-any.whl size=14193 sha256=ac98eaee98ae4a955566875c5748701bc9c49216c46385ceea952d88591cfe4a\n",
            "  Stored in directory: /root/.cache/pip/wheels/5b/a8/49/e1d7a4bab4c027aae108c209be8788349ccbc5ac51f53b6061\n",
            "Successfully built TwitterAPI\n",
            "Installing collected packages: TwitterAPI\n",
            "Successfully installed TwitterAPI-2.7.12\n"
          ]
        }
      ]
    },
    {
      "cell_type": "code",
      "source": [
        "from TwitterAPI import TwitterAPI\n",
        "import pandas as pd"
      ],
      "metadata": {
        "id": "3pDzUzvpDFgJ"
      },
      "execution_count": 2,
      "outputs": []
    },
    {
      "cell_type": "code",
      "execution_count": 4,
      "metadata": {
        "id": "mlaQIUX8DCk0"
      },
      "outputs": [],
      "source": [
        "my_keys = pd.read_csv('TwitterAPIKeys.csv')\n",
        "\n",
        "consumer_key = my_keys.iloc[0][1]\n",
        "consumer_secret = my_keys.iloc[1][1]"
      ]
    },
    {
      "cell_type": "code",
      "source": [
        "api = TwitterAPI(consumer_key,\n",
        "                 consumer_secret,\n",
        "                 api_version='2', \n",
        "                 auth_type='oAuth2')"
      ],
      "metadata": {
        "id": "eqUhd6wbfDvZ"
      },
      "execution_count": 5,
      "outputs": []
    },
    {
      "cell_type": "code",
      "source": [
        "r = api.request('tweets/search/recent', {\n",
        "        'query':'inter',\n",
        "        'tweet.fields':'author_id',\n",
        "        'tweet.fields':'created_at',\n",
        "        'expansions':'author_id',\n",
        "        'max_results':100})\n",
        "for item in r:\n",
        "        print(item)"
      ],
      "metadata": {
        "id": "4QoAHKeVDtXg"
      },
      "execution_count": null,
      "outputs": []
    },
    {
      "cell_type": "markdown",
      "source": [
        "More details on the query arguments: https://developer.twitter.com/en/docs/twitter-api/tweets/search/api-reference/get-tweets-search-recent"
      ],
      "metadata": {
        "id": "VuXuHCqpgVxd"
      }
    },
    {
      "cell_type": "markdown",
      "source": [
        "## 2. TWARC"
      ],
      "metadata": {
        "id": "g_KEJrNtguSj"
      }
    },
    {
      "cell_type": "code",
      "source": [
        "!pip install twarc  \n",
        "!pip3 install --upgrade twarc-csv"
      ],
      "metadata": {
        "id": "LgFZiH0Ag1S9",
        "outputId": "88aef316-5e8c-4a63-e91f-a29f63e89867",
        "colab": {
          "base_uri": "https://localhost:8080/"
        }
      },
      "execution_count": 8,
      "outputs": [
        {
          "output_type": "stream",
          "name": "stdout",
          "text": [
            "Collecting twarc\n",
            "  Downloading twarc-2.9.4-py3-none-any.whl (55 kB)\n",
            "\u001b[?25l\r\u001b[K     |█████▉                          | 10 kB 30.0 MB/s eta 0:00:01\r\u001b[K     |███████████▊                    | 20 kB 35.5 MB/s eta 0:00:01\r\u001b[K     |█████████████████▋              | 30 kB 41.1 MB/s eta 0:00:01\r\u001b[K     |███████████████████████▌        | 40 kB 15.0 MB/s eta 0:00:01\r\u001b[K     |█████████████████████████████▍  | 51 kB 16.6 MB/s eta 0:00:01\r\u001b[K     |████████████████████████████████| 55 kB 2.6 MB/s \n",
            "\u001b[?25hRequirement already satisfied: click<9,>=7 in /usr/local/lib/python3.7/dist-packages (from twarc) (7.1.2)\n",
            "Requirement already satisfied: requests-oauthlib>=1.3 in /usr/local/lib/python3.7/dist-packages (from twarc) (1.3.1)\n",
            "Collecting humanize>=3.9\n",
            "  Downloading humanize-4.0.0-py3-none-any.whl (97 kB)\n",
            "\u001b[K     |████████████████████████████████| 97 kB 5.1 MB/s \n",
            "\u001b[?25hCollecting click-plugins>=1\n",
            "  Downloading click_plugins-1.1.1-py2.py3-none-any.whl (7.5 kB)\n",
            "Collecting click-config-file>=0.6\n",
            "  Downloading click_config_file-0.6.0-py2.py3-none-any.whl (6.0 kB)\n",
            "Requirement already satisfied: tqdm>=4.62 in /usr/local/lib/python3.7/dist-packages (from twarc) (4.63.0)\n",
            "Requirement already satisfied: python-dateutil>=2.8 in /usr/local/lib/python3.7/dist-packages (from twarc) (2.8.2)\n",
            "Collecting configobj>=5.0.6\n",
            "  Downloading configobj-5.0.6.tar.gz (33 kB)\n",
            "Requirement already satisfied: six in /usr/local/lib/python3.7/dist-packages (from configobj>=5.0.6->click-config-file>=0.6->twarc) (1.15.0)\n",
            "Requirement already satisfied: importlib-metadata in /usr/local/lib/python3.7/dist-packages (from humanize>=3.9->twarc) (4.11.2)\n",
            "Requirement already satisfied: requests>=2.0.0 in /usr/local/lib/python3.7/dist-packages (from requests-oauthlib>=1.3->twarc) (2.23.0)\n",
            "Requirement already satisfied: oauthlib>=3.0.0 in /usr/local/lib/python3.7/dist-packages (from requests-oauthlib>=1.3->twarc) (3.2.0)\n",
            "Requirement already satisfied: urllib3!=1.25.0,!=1.25.1,<1.26,>=1.21.1 in /usr/local/lib/python3.7/dist-packages (from requests>=2.0.0->requests-oauthlib>=1.3->twarc) (1.24.3)\n",
            "Requirement already satisfied: idna<3,>=2.5 in /usr/local/lib/python3.7/dist-packages (from requests>=2.0.0->requests-oauthlib>=1.3->twarc) (2.10)\n",
            "Requirement already satisfied: certifi>=2017.4.17 in /usr/local/lib/python3.7/dist-packages (from requests>=2.0.0->requests-oauthlib>=1.3->twarc) (2021.10.8)\n",
            "Requirement already satisfied: chardet<4,>=3.0.2 in /usr/local/lib/python3.7/dist-packages (from requests>=2.0.0->requests-oauthlib>=1.3->twarc) (3.0.4)\n",
            "Requirement already satisfied: zipp>=0.5 in /usr/local/lib/python3.7/dist-packages (from importlib-metadata->humanize>=3.9->twarc) (3.7.0)\n",
            "Requirement already satisfied: typing-extensions>=3.6.4 in /usr/local/lib/python3.7/dist-packages (from importlib-metadata->humanize>=3.9->twarc) (3.10.0.2)\n",
            "Building wheels for collected packages: configobj\n",
            "  Building wheel for configobj (setup.py) ... \u001b[?25l\u001b[?25hdone\n",
            "  Created wheel for configobj: filename=configobj-5.0.6-py3-none-any.whl size=34547 sha256=67292804ad2757ae766dc98bdfb6bec787c19e7ee9b069ba34f159d97beeb325\n",
            "  Stored in directory: /root/.cache/pip/wheels/0d/c4/19/13d74440f2a571841db6b6e0a273694327498884dafb9cf978\n",
            "Successfully built configobj\n",
            "Installing collected packages: configobj, humanize, click-plugins, click-config-file, twarc\n",
            "  Attempting uninstall: humanize\n",
            "    Found existing installation: humanize 0.5.1\n",
            "    Uninstalling humanize-0.5.1:\n",
            "      Successfully uninstalled humanize-0.5.1\n",
            "Successfully installed click-config-file-0.6.0 click-plugins-1.1.1 configobj-5.0.6 humanize-4.0.0 twarc-2.9.4\n",
            "Collecting twarc-csv\n",
            "  Downloading twarc-csv-0.5.1.tar.gz (7.9 kB)\n",
            "Requirement already satisfied: twarc>=2.8.0 in /usr/local/lib/python3.7/dist-packages (from twarc-csv) (2.9.4)\n",
            "Requirement already satisfied: pandas>=1.2.5 in /usr/local/lib/python3.7/dist-packages (from twarc-csv) (1.3.5)\n",
            "Requirement already satisfied: more-itertools>=8.7.0 in /usr/local/lib/python3.7/dist-packages (from twarc-csv) (8.12.0)\n",
            "Requirement already satisfied: tqdm>=4.59.0 in /usr/local/lib/python3.7/dist-packages (from twarc-csv) (4.63.0)\n",
            "Requirement already satisfied: numpy>=1.17.3 in /usr/local/lib/python3.7/dist-packages (from pandas>=1.2.5->twarc-csv) (1.21.5)\n",
            "Requirement already satisfied: python-dateutil>=2.7.3 in /usr/local/lib/python3.7/dist-packages (from pandas>=1.2.5->twarc-csv) (2.8.2)\n",
            "Requirement already satisfied: pytz>=2017.3 in /usr/local/lib/python3.7/dist-packages (from pandas>=1.2.5->twarc-csv) (2018.9)\n",
            "Requirement already satisfied: six>=1.5 in /usr/local/lib/python3.7/dist-packages (from python-dateutil>=2.7.3->pandas>=1.2.5->twarc-csv) (1.15.0)\n",
            "Requirement already satisfied: requests-oauthlib>=1.3 in /usr/local/lib/python3.7/dist-packages (from twarc>=2.8.0->twarc-csv) (1.3.1)\n",
            "Requirement already satisfied: humanize>=3.9 in /usr/local/lib/python3.7/dist-packages (from twarc>=2.8.0->twarc-csv) (4.0.0)\n",
            "Requirement already satisfied: click-config-file>=0.6 in /usr/local/lib/python3.7/dist-packages (from twarc>=2.8.0->twarc-csv) (0.6.0)\n",
            "Requirement already satisfied: click<9,>=7 in /usr/local/lib/python3.7/dist-packages (from twarc>=2.8.0->twarc-csv) (7.1.2)\n",
            "Requirement already satisfied: click-plugins>=1 in /usr/local/lib/python3.7/dist-packages (from twarc>=2.8.0->twarc-csv) (1.1.1)\n",
            "Requirement already satisfied: configobj>=5.0.6 in /usr/local/lib/python3.7/dist-packages (from click-config-file>=0.6->twarc>=2.8.0->twarc-csv) (5.0.6)\n",
            "Requirement already satisfied: importlib-metadata in /usr/local/lib/python3.7/dist-packages (from humanize>=3.9->twarc>=2.8.0->twarc-csv) (4.11.2)\n",
            "Requirement already satisfied: requests>=2.0.0 in /usr/local/lib/python3.7/dist-packages (from requests-oauthlib>=1.3->twarc>=2.8.0->twarc-csv) (2.23.0)\n",
            "Requirement already satisfied: oauthlib>=3.0.0 in /usr/local/lib/python3.7/dist-packages (from requests-oauthlib>=1.3->twarc>=2.8.0->twarc-csv) (3.2.0)\n",
            "Requirement already satisfied: idna<3,>=2.5 in /usr/local/lib/python3.7/dist-packages (from requests>=2.0.0->requests-oauthlib>=1.3->twarc>=2.8.0->twarc-csv) (2.10)\n",
            "Requirement already satisfied: chardet<4,>=3.0.2 in /usr/local/lib/python3.7/dist-packages (from requests>=2.0.0->requests-oauthlib>=1.3->twarc>=2.8.0->twarc-csv) (3.0.4)\n",
            "Requirement already satisfied: certifi>=2017.4.17 in /usr/local/lib/python3.7/dist-packages (from requests>=2.0.0->requests-oauthlib>=1.3->twarc>=2.8.0->twarc-csv) (2021.10.8)\n",
            "Requirement already satisfied: urllib3!=1.25.0,!=1.25.1,<1.26,>=1.21.1 in /usr/local/lib/python3.7/dist-packages (from requests>=2.0.0->requests-oauthlib>=1.3->twarc>=2.8.0->twarc-csv) (1.24.3)\n",
            "Requirement already satisfied: zipp>=0.5 in /usr/local/lib/python3.7/dist-packages (from importlib-metadata->humanize>=3.9->twarc>=2.8.0->twarc-csv) (3.7.0)\n",
            "Requirement already satisfied: typing-extensions>=3.6.4 in /usr/local/lib/python3.7/dist-packages (from importlib-metadata->humanize>=3.9->twarc>=2.8.0->twarc-csv) (3.10.0.2)\n",
            "Building wheels for collected packages: twarc-csv\n",
            "  Building wheel for twarc-csv (setup.py) ... \u001b[?25l\u001b[?25hdone\n",
            "  Created wheel for twarc-csv: filename=twarc_csv-0.5.1-py3-none-any.whl size=9252 sha256=e50f7757a3f97c6f6aa1f455a1918a7416d48eac5e69cc6d0e0900b527e2629e\n",
            "  Stored in directory: /root/.cache/pip/wheels/73/dc/97/79b383774eb06f882d070b3dfa18fad517c94c358d8a703e61\n",
            "Successfully built twarc-csv\n",
            "Installing collected packages: twarc-csv\n",
            "Successfully installed twarc-csv-0.5.1\n"
          ]
        }
      ]
    },
    {
      "cell_type": "markdown",
      "source": [
        "...then you will have to configure TWARC2 (version 2.0).  \n",
        "Run the cell, then add (manually) the \"Bearer Token\" (you find it in the csv file)  \n",
        "Then just select (n), i.e. no additional authentication methods \n",
        "Finally, please delete the output cell (because in it the BearerToken will be printed)"
      ],
      "metadata": {
        "id": "v14UDk41g7cj"
      }
    },
    {
      "cell_type": "code",
      "source": [
        "!twarc2 configure"
      ],
      "metadata": {
        "id": "RGvJ0sTng6ka"
      },
      "execution_count": null,
      "outputs": []
    },
    {
      "cell_type": "code",
      "source": [
        "!twarc2 search --limit 100 \"inter\" results.jsonl"
      ],
      "metadata": {
        "id": "iGIlr4IuhrE_",
        "outputId": "11614522-79b1-423c-c210-f62915815f57",
        "colab": {
          "base_uri": "https://localhost:8080/"
        }
      },
      "execution_count": 14,
      "outputs": [
        {
          "output_type": "stream",
          "name": "stdout",
          "text": [
            "Set --limit of 100 reached:   0% 74998/604770000 [00:01<2:50:58, 58943.08it/s]\n"
          ]
        }
      ]
    },
    {
      "cell_type": "markdown",
      "source": [
        "More info on query arguments: https://twarc-project.readthedocs.io/en/latest/twarc2_en_us/"
      ],
      "metadata": {
        "id": "-8voi2-5jrab"
      }
    },
    {
      "cell_type": "code",
      "source": [
        "# convert the json into csv (friendlier for pandas)\n",
        "\n",
        "!twarc2 csv results.jsonl tweets.csv"
      ],
      "metadata": {
        "id": "ZQaf7Gm-h0oT",
        "outputId": "eba11bb4-d2a9-48e2-f1cc-0d80a9f86ed8",
        "colab": {
          "base_uri": "https://localhost:8080/"
        }
      },
      "execution_count": 15,
      "outputs": [
        {
          "output_type": "stream",
          "name": "stdout",
          "text": [
            "\r  0% 0.00/385k [00:00<?, ?B/s]\r100% 385k/385k [00:00<00:00, 3.57MB/s]\n",
            "\n",
            "ℹ️\n",
            "Parsed 100 tweets objects from 1 lines in the input file.\n",
            "Wrote 100 rows and output 74 columns in the CSV.\n",
            "\n"
          ]
        }
      ]
    },
    {
      "cell_type": "code",
      "source": [
        "# read the csv and explore it\n",
        "\n",
        "df = pd.read_csv('tweets.csv')\n",
        "df.head()"
      ],
      "metadata": {
        "id": "iRT80h-ciHmH",
        "outputId": "620f38e6-5e01-4641-cd65-feb33e55488e",
        "colab": {
          "base_uri": "https://localhost:8080/",
          "height": 491
        }
      },
      "execution_count": 16,
      "outputs": [
        {
          "output_type": "execute_result",
          "data": {
            "text/html": [
              "\n",
              "  <div id=\"df-686de0f3-f95f-4553-af23-29e18c760001\">\n",
              "    <div class=\"colab-df-container\">\n",
              "      <div>\n",
              "<style scoped>\n",
              "    .dataframe tbody tr th:only-of-type {\n",
              "        vertical-align: middle;\n",
              "    }\n",
              "\n",
              "    .dataframe tbody tr th {\n",
              "        vertical-align: top;\n",
              "    }\n",
              "\n",
              "    .dataframe thead th {\n",
              "        text-align: right;\n",
              "    }\n",
              "</style>\n",
              "<table border=\"1\" class=\"dataframe\">\n",
              "  <thead>\n",
              "    <tr style=\"text-align: right;\">\n",
              "      <th></th>\n",
              "      <th>id</th>\n",
              "      <th>conversation_id</th>\n",
              "      <th>referenced_tweets.replied_to.id</th>\n",
              "      <th>referenced_tweets.retweeted.id</th>\n",
              "      <th>referenced_tweets.quoted.id</th>\n",
              "      <th>author_id</th>\n",
              "      <th>in_reply_to_user_id</th>\n",
              "      <th>retweeted_user_id</th>\n",
              "      <th>quoted_user_id</th>\n",
              "      <th>created_at</th>\n",
              "      <th>...</th>\n",
              "      <th>geo.geo.bbox</th>\n",
              "      <th>geo.geo.type</th>\n",
              "      <th>geo.id</th>\n",
              "      <th>geo.name</th>\n",
              "      <th>geo.place_id</th>\n",
              "      <th>geo.place_type</th>\n",
              "      <th>__twarc.retrieved_at</th>\n",
              "      <th>__twarc.url</th>\n",
              "      <th>__twarc.version</th>\n",
              "      <th>Unnamed: 73</th>\n",
              "    </tr>\n",
              "  </thead>\n",
              "  <tbody>\n",
              "    <tr>\n",
              "      <th>0</th>\n",
              "      <td>1499710495556837382</td>\n",
              "      <td>1499710495556837382</td>\n",
              "      <td>NaN</td>\n",
              "      <td>1.499583e+18</td>\n",
              "      <td>NaN</td>\n",
              "      <td>847643857562906624</td>\n",
              "      <td>NaN</td>\n",
              "      <td>9.686204e+17</td>\n",
              "      <td>NaN</td>\n",
              "      <td>2022-03-04T11:37:00.000Z</td>\n",
              "      <td>...</td>\n",
              "      <td>NaN</td>\n",
              "      <td>NaN</td>\n",
              "      <td>NaN</td>\n",
              "      <td>NaN</td>\n",
              "      <td>NaN</td>\n",
              "      <td>NaN</td>\n",
              "      <td>2022-03-04T11:37:12+00:00</td>\n",
              "      <td>https://api.twitter.com/2/tweets/search/recent...</td>\n",
              "      <td>2.9.4</td>\n",
              "      <td>NaN</td>\n",
              "    </tr>\n",
              "    <tr>\n",
              "      <th>1</th>\n",
              "      <td>1499710493761880064</td>\n",
              "      <td>1499710493761880064</td>\n",
              "      <td>NaN</td>\n",
              "      <td>NaN</td>\n",
              "      <td>NaN</td>\n",
              "      <td>1499710274592395265</td>\n",
              "      <td>NaN</td>\n",
              "      <td>NaN</td>\n",
              "      <td>NaN</td>\n",
              "      <td>2022-03-04T11:36:59.000Z</td>\n",
              "      <td>...</td>\n",
              "      <td>NaN</td>\n",
              "      <td>NaN</td>\n",
              "      <td>NaN</td>\n",
              "      <td>NaN</td>\n",
              "      <td>NaN</td>\n",
              "      <td>NaN</td>\n",
              "      <td>2022-03-04T11:37:12+00:00</td>\n",
              "      <td>https://api.twitter.com/2/tweets/search/recent...</td>\n",
              "      <td>2.9.4</td>\n",
              "      <td>NaN</td>\n",
              "    </tr>\n",
              "    <tr>\n",
              "      <th>2</th>\n",
              "      <td>1499710490880081920</td>\n",
              "      <td>1499710490880081920</td>\n",
              "      <td>NaN</td>\n",
              "      <td>1.499709e+18</td>\n",
              "      <td>NaN</td>\n",
              "      <td>1384439541159784452</td>\n",
              "      <td>NaN</td>\n",
              "      <td>6.084356e+07</td>\n",
              "      <td>NaN</td>\n",
              "      <td>2022-03-04T11:36:58.000Z</td>\n",
              "      <td>...</td>\n",
              "      <td>NaN</td>\n",
              "      <td>NaN</td>\n",
              "      <td>NaN</td>\n",
              "      <td>NaN</td>\n",
              "      <td>NaN</td>\n",
              "      <td>NaN</td>\n",
              "      <td>2022-03-04T11:37:12+00:00</td>\n",
              "      <td>https://api.twitter.com/2/tweets/search/recent...</td>\n",
              "      <td>2.9.4</td>\n",
              "      <td>NaN</td>\n",
              "    </tr>\n",
              "    <tr>\n",
              "      <th>3</th>\n",
              "      <td>1499710486518153221</td>\n",
              "      <td>1499710486518153221</td>\n",
              "      <td>NaN</td>\n",
              "      <td>NaN</td>\n",
              "      <td>NaN</td>\n",
              "      <td>55453329</td>\n",
              "      <td>NaN</td>\n",
              "      <td>NaN</td>\n",
              "      <td>NaN</td>\n",
              "      <td>2022-03-04T11:36:57.000Z</td>\n",
              "      <td>...</td>\n",
              "      <td>NaN</td>\n",
              "      <td>NaN</td>\n",
              "      <td>NaN</td>\n",
              "      <td>NaN</td>\n",
              "      <td>NaN</td>\n",
              "      <td>NaN</td>\n",
              "      <td>2022-03-04T11:37:12+00:00</td>\n",
              "      <td>https://api.twitter.com/2/tweets/search/recent...</td>\n",
              "      <td>2.9.4</td>\n",
              "      <td>NaN</td>\n",
              "    </tr>\n",
              "    <tr>\n",
              "      <th>4</th>\n",
              "      <td>1499710479790493697</td>\n",
              "      <td>1499700066482892801</td>\n",
              "      <td>1.499700e+18</td>\n",
              "      <td>NaN</td>\n",
              "      <td>NaN</td>\n",
              "      <td>98933278</td>\n",
              "      <td>164097653.0</td>\n",
              "      <td>NaN</td>\n",
              "      <td>NaN</td>\n",
              "      <td>2022-03-04T11:36:56.000Z</td>\n",
              "      <td>...</td>\n",
              "      <td>NaN</td>\n",
              "      <td>NaN</td>\n",
              "      <td>NaN</td>\n",
              "      <td>NaN</td>\n",
              "      <td>NaN</td>\n",
              "      <td>NaN</td>\n",
              "      <td>2022-03-04T11:37:12+00:00</td>\n",
              "      <td>https://api.twitter.com/2/tweets/search/recent...</td>\n",
              "      <td>2.9.4</td>\n",
              "      <td>NaN</td>\n",
              "    </tr>\n",
              "  </tbody>\n",
              "</table>\n",
              "<p>5 rows × 74 columns</p>\n",
              "</div>\n",
              "      <button class=\"colab-df-convert\" onclick=\"convertToInteractive('df-686de0f3-f95f-4553-af23-29e18c760001')\"\n",
              "              title=\"Convert this dataframe to an interactive table.\"\n",
              "              style=\"display:none;\">\n",
              "        \n",
              "  <svg xmlns=\"http://www.w3.org/2000/svg\" height=\"24px\"viewBox=\"0 0 24 24\"\n",
              "       width=\"24px\">\n",
              "    <path d=\"M0 0h24v24H0V0z\" fill=\"none\"/>\n",
              "    <path d=\"M18.56 5.44l.94 2.06.94-2.06 2.06-.94-2.06-.94-.94-2.06-.94 2.06-2.06.94zm-11 1L8.5 8.5l.94-2.06 2.06-.94-2.06-.94L8.5 2.5l-.94 2.06-2.06.94zm10 10l.94 2.06.94-2.06 2.06-.94-2.06-.94-.94-2.06-.94 2.06-2.06.94z\"/><path d=\"M17.41 7.96l-1.37-1.37c-.4-.4-.92-.59-1.43-.59-.52 0-1.04.2-1.43.59L10.3 9.45l-7.72 7.72c-.78.78-.78 2.05 0 2.83L4 21.41c.39.39.9.59 1.41.59.51 0 1.02-.2 1.41-.59l7.78-7.78 2.81-2.81c.8-.78.8-2.07 0-2.86zM5.41 20L4 18.59l7.72-7.72 1.47 1.35L5.41 20z\"/>\n",
              "  </svg>\n",
              "      </button>\n",
              "      \n",
              "  <style>\n",
              "    .colab-df-container {\n",
              "      display:flex;\n",
              "      flex-wrap:wrap;\n",
              "      gap: 12px;\n",
              "    }\n",
              "\n",
              "    .colab-df-convert {\n",
              "      background-color: #E8F0FE;\n",
              "      border: none;\n",
              "      border-radius: 50%;\n",
              "      cursor: pointer;\n",
              "      display: none;\n",
              "      fill: #1967D2;\n",
              "      height: 32px;\n",
              "      padding: 0 0 0 0;\n",
              "      width: 32px;\n",
              "    }\n",
              "\n",
              "    .colab-df-convert:hover {\n",
              "      background-color: #E2EBFA;\n",
              "      box-shadow: 0px 1px 2px rgba(60, 64, 67, 0.3), 0px 1px 3px 1px rgba(60, 64, 67, 0.15);\n",
              "      fill: #174EA6;\n",
              "    }\n",
              "\n",
              "    [theme=dark] .colab-df-convert {\n",
              "      background-color: #3B4455;\n",
              "      fill: #D2E3FC;\n",
              "    }\n",
              "\n",
              "    [theme=dark] .colab-df-convert:hover {\n",
              "      background-color: #434B5C;\n",
              "      box-shadow: 0px 1px 3px 1px rgba(0, 0, 0, 0.15);\n",
              "      filter: drop-shadow(0px 1px 2px rgba(0, 0, 0, 0.3));\n",
              "      fill: #FFFFFF;\n",
              "    }\n",
              "  </style>\n",
              "\n",
              "      <script>\n",
              "        const buttonEl =\n",
              "          document.querySelector('#df-686de0f3-f95f-4553-af23-29e18c760001 button.colab-df-convert');\n",
              "        buttonEl.style.display =\n",
              "          google.colab.kernel.accessAllowed ? 'block' : 'none';\n",
              "\n",
              "        async function convertToInteractive(key) {\n",
              "          const element = document.querySelector('#df-686de0f3-f95f-4553-af23-29e18c760001');\n",
              "          const dataTable =\n",
              "            await google.colab.kernel.invokeFunction('convertToInteractive',\n",
              "                                                     [key], {});\n",
              "          if (!dataTable) return;\n",
              "\n",
              "          const docLinkHtml = 'Like what you see? Visit the ' +\n",
              "            '<a target=\"_blank\" href=https://colab.research.google.com/notebooks/data_table.ipynb>data table notebook</a>'\n",
              "            + ' to learn more about interactive tables.';\n",
              "          element.innerHTML = '';\n",
              "          dataTable['output_type'] = 'display_data';\n",
              "          await google.colab.output.renderOutput(dataTable, element);\n",
              "          const docLink = document.createElement('div');\n",
              "          docLink.innerHTML = docLinkHtml;\n",
              "          element.appendChild(docLink);\n",
              "        }\n",
              "      </script>\n",
              "    </div>\n",
              "  </div>\n",
              "  "
            ],
            "text/plain": [
              "                    id      conversation_id  referenced_tweets.replied_to.id  \\\n",
              "0  1499710495556837382  1499710495556837382                              NaN   \n",
              "1  1499710493761880064  1499710493761880064                              NaN   \n",
              "2  1499710490880081920  1499710490880081920                              NaN   \n",
              "3  1499710486518153221  1499710486518153221                              NaN   \n",
              "4  1499710479790493697  1499700066482892801                     1.499700e+18   \n",
              "\n",
              "   referenced_tweets.retweeted.id  referenced_tweets.quoted.id  \\\n",
              "0                    1.499583e+18                          NaN   \n",
              "1                             NaN                          NaN   \n",
              "2                    1.499709e+18                          NaN   \n",
              "3                             NaN                          NaN   \n",
              "4                             NaN                          NaN   \n",
              "\n",
              "             author_id  in_reply_to_user_id  retweeted_user_id  \\\n",
              "0   847643857562906624                  NaN       9.686204e+17   \n",
              "1  1499710274592395265                  NaN                NaN   \n",
              "2  1384439541159784452                  NaN       6.084356e+07   \n",
              "3             55453329                  NaN                NaN   \n",
              "4             98933278          164097653.0                NaN   \n",
              "\n",
              "   quoted_user_id                created_at  ... geo.geo.bbox geo.geo.type  \\\n",
              "0             NaN  2022-03-04T11:37:00.000Z  ...          NaN          NaN   \n",
              "1             NaN  2022-03-04T11:36:59.000Z  ...          NaN          NaN   \n",
              "2             NaN  2022-03-04T11:36:58.000Z  ...          NaN          NaN   \n",
              "3             NaN  2022-03-04T11:36:57.000Z  ...          NaN          NaN   \n",
              "4             NaN  2022-03-04T11:36:56.000Z  ...          NaN          NaN   \n",
              "\n",
              "  geo.id  geo.name  geo.place_id  geo.place_type       __twarc.retrieved_at  \\\n",
              "0    NaN       NaN           NaN             NaN  2022-03-04T11:37:12+00:00   \n",
              "1    NaN       NaN           NaN             NaN  2022-03-04T11:37:12+00:00   \n",
              "2    NaN       NaN           NaN             NaN  2022-03-04T11:37:12+00:00   \n",
              "3    NaN       NaN           NaN             NaN  2022-03-04T11:37:12+00:00   \n",
              "4    NaN       NaN           NaN             NaN  2022-03-04T11:37:12+00:00   \n",
              "\n",
              "                                         __twarc.url  __twarc.version  \\\n",
              "0  https://api.twitter.com/2/tweets/search/recent...            2.9.4   \n",
              "1  https://api.twitter.com/2/tweets/search/recent...            2.9.4   \n",
              "2  https://api.twitter.com/2/tweets/search/recent...            2.9.4   \n",
              "3  https://api.twitter.com/2/tweets/search/recent...            2.9.4   \n",
              "4  https://api.twitter.com/2/tweets/search/recent...            2.9.4   \n",
              "\n",
              "   Unnamed: 73  \n",
              "0          NaN  \n",
              "1          NaN  \n",
              "2          NaN  \n",
              "3          NaN  \n",
              "4          NaN  \n",
              "\n",
              "[5 rows x 74 columns]"
            ]
          },
          "metadata": {},
          "execution_count": 16
        }
      ]
    },
    {
      "cell_type": "code",
      "source": [
        "for item in df.text:\n",
        "  print(item)"
      ],
      "metadata": {
        "id": "0Rn7VOMsiNZD",
        "outputId": "95c664c8-cb6d-4a51-ba11-3b0d09b1f7f1",
        "colab": {
          "base_uri": "https://localhost:8080/"
        }
      },
      "execution_count": 17,
      "outputs": [
        {
          "output_type": "stream",
          "name": "stdout",
          "text": [
            "“Na tela da TV no meio desse povo, O INTER VAI PERDER PRO GLOBO” https://t.co/UzFb3Ee2ZC\n",
            "121EE15BIf the message of Jesus was love, , As long as I am still inter\\n|\\nhttps://t.co/A1n5kBWAK1\\nhttps://t.co/mh1Ol1l3Sr\n",
            "TN inter-caste couple fears violence from family, rescued by bystanders at traffic signal https://t.co/c6bvID3E8G\n",
            "Na real, é o seguinte: quando a direção do Inter dispensou o Abel, deveria ter feito a renovação do elenco. Não o fez e agora está comendo na mão deles...\n",
            "@bibianabolson Nisso Inter tá mau Bibi...😥\n",
            "@realfilipemm Vou de Lisca, pelo menos conhece Inter e sabe como funciona, n que vá fazer diferença.\n",
            "@ALDubFTnQT @cpjayloni @xanria_018 @fermin_marilou @its_lovereal @luimaxM16 @KrizzyFollman @shirogerdm @khayzophiearain @r79perfect @NHITZ591128 @latuazon @mcaroline1936 @gabb94 @marichotabelina @loveumuch29 @Fourtynninne @Pingping1961 @MamuEmma @RizaReyes8 @MayYnfante @JonaFerry1953 @QueenzkiePh427 Inter, #ALDUBatADNKatahimikan\n",
            "Inter e Grêmio eliminados da Copa do Brasil na primeira fase... A dupla Gre-Nal ta como 🔥 kkkkkkkkkkkkkkkkkkkkk https://t.co/CsSNsC3m4Q\n",
            "O ano é 2008, Inter é eliminado da Copa do Brasil pelo Sport (q seria campeão depois), depois disso, saem do clube FERNANDÃO, IARLEY, ABEL BRAGA e CLEMER vira reserva.\\n\\n2022 Inter perde pro Globo e Edenilson, Cuesta, Dourado e Moisés, q não ganharam nada, vão seguir prestigiados.\n",
            "agora eu entendo o pq do “bem vindos ao inferno” é isso q o inter faz com a nossa vida\n",
            "Zelensky appelle le monde « à stopper » Poutine — via @LaMatinale_M Laurent Van der Stockt @laurentvds et @RemyOurdan in Kiev ⁦@lemonde_inter⁩  https://t.co/zCGnGOTC7N\n",
            "@pangare1909 @Flamengo se o nosso menino Victor Vinicius ainda estivesse no inter vocês não passariam a vergonha que passaram ontem\n",
            "e o inter que zuou o gremio por ser eliminado pelo mirassol e levou 2x0 do globo eliminado também\n",
            "#GLOxINT | 2T | ⏱️ 42' - Globo 2x0 Inter.\n",
            "Proofs enduku aa bokkagalaki 🤧\\nAvvi chadive antha brain kuda undadhu aa inter Failure gallaki 💦 https://t.co/FI4Rwnwlcx\n",
            "@SCInternacional Grêmio e Inter https://t.co/WddELZnoHy\n",
            "O Globo gira e o Inter roda auehuahe\n",
            "#GLOxINT | 2T | ⏱️ 42' - Globo 2x0 Inter.\n",
            "Capaz do Inter mudar a cor do uniforme e o escudo, mas não vai mexer no elenco. Eu desisto. Eu já cheguei a largar a mao do time em setembro, mas em março é a primeira vez. Parabens @BarcellosSCI https://t.co/d184U0xpDs\n",
            "O fiasco do século, e o Medina segue? #Inter #GloboRN #CopaDoBrasil\n",
            "podia mto bem acontecer ao contrário agr né os jogadores que vieram de inter e grêmio dessem sorte pra nós kkkkk https://t.co/n4qTlsOQ9p\n",
            "reason for detention: spying for russia @RSF_inter https://t.co/iQwGLh8fiZ\n",
            "e o inter que zuou o gremio por ser eliminado pelo mirassol e levou 2x0 do globo eliminado também\n",
            "@yoyokrish69 @pacemnas @faroukoj @MadridXtra @diarioas You couldn’t beat inter 5-0 pipe down and we beat inter\n",
            "O Globo gira e o Inter roda auehuahe\n",
            "TN inter-caste couple fears violence from family, rescued by bystanders at traffic signal https://t.co/c6bvID3E8G\n",
            "Inter é o único time do mundo que quanto mais treina pior joga\n",
            "🚨Em virtude dos acontecimentos antes do Grenal, em solidariedade com o jogador Villasanti, o Inter também não jogará mais a Copa do Brasil... https://t.co/sUdwNj9035\n",
            "\"Isso a Globo não mostra\": confira os memes da eliminação do Inter na Copa do Brasil | internacional | ge https://t.co/OSdk4724ON\n",
            "#Kenya five killed in inter communal fighting over pasture on Wajir - Isiolo border\n",
            "Curiosidade: nos últimos 42 anos o Gabigol tem 2 brasileiros e o Inter não tem nenhum https://t.co/TcSCxiHxHB\n",
            "@Inter_ar @gruppo_a2a ما تفوزون نزعل والله\n",
            "Infelizmente não consegui assistir o jogo do inter ontem, alguém pode me falar de quanto o todo poderoso internacional goleou o Globo?\n",
            "\"Isso a Globo não mostra\": confira os memes da eliminação do Inter na Copa do Brasil | internacional | ge https://t.co/OSdk4724ON\n",
            "इंस्टीट्यूट ऑफ चार्टर्ड अकाउंटेंट्स ऑफ इंडिया ((ICAI) ) ने दिसंबर 2021 में आयोजित सीए इंटरमीडिएट परीक्षा के परिणाम कल 26 फरवरी 2022 को घोषित कर दिए हैं। साथ ही जारी की टापर्स की भी लिस्ट।\\n\\n#icairesults \\n\\nhttps://t.co/HGnjXqcU2K\n",
            "@Grandebuio00 @maxligart @CalcioFinanza No, il veto è degli obligazionisti quindi l'Inter non è vincolata. Se poi la superlega fosse realtà l'Inter può partecipare. Semplicemente non ha alcun vincolo o penale da pagare nel caso non lo facesse.\n",
            "Coudet nao voltará ao inter por não tem as garantias do Zenit, essa é a desculpa pra não fechar mais negócios, departamento patético\n",
            "@maurpz Inter serie B 2023, grenal na serie b vamooooo\n",
            "🚨| Inter Milan have left the Super League. [@AranchaMOBILE🎖]\n",
            "Isso aqui é vexatório e se repete desde 2016.\\n\\nÉ vergonhoso, uma mancha na história do Inter esse ciclo de jogadores tenebrosos e derrotados que nunca se encerra.\\n\\nParabéns, @BarcellosSCI. Teve a faca e o queijo na mão.\\nObrigado @taisonfredaT7 por compactuar. \\nEsperava mais. https://t.co/rfg5sdxdvJ\n",
            "Giveaway Giveaway Giveaway \\n\\n1 x famas rool Cage.\\n\\n1x winner ❤\\n\\nTo inter:\\n\\nRetweet ❤\\nLike❤\\nFollow❤\\n\\nI rool it in 8 days: https://t.co/9diEV2yHAc\n",
            "Infelizmente não consegui assistir o jogo do inter ontem, alguém pode me falar de quanto o todo poderoso internacional goleou o Globo?\n",
            "Após derrota para o Globo, Inter jogará a repescagem com TV Senado, TV Escola e Canal do Boi.\n",
            "@Inter @SerieA @gruppo_a2a Riusciamo a vincerne una? Almeno una dai..\n",
            "Inter e Grêmio eliminados da Copa do Brasil na primeira fase... A dupla Gre-Nal ta como 🔥 kkkkkkkkkkkkkkkkkkkkk https://t.co/CsSNsC3m4Q\n",
            "CURIOSIDADE: O Inter acaba de perder para o Globo e ser eliminado na primeira fase da Copa do Brasil. O Globo tem nove anos de fundação...\\n\\nhttps://t.co/oZwNta2c9v\n",
            "@Erick52523184 @rafael80epoucos @Marcelo_Inter @hoje_no Puxa a ficha dos combatentes do Wagner Group e ai gente conversa, sem falar que o Azov, Svoboda, Right Sector e Aidar é tão irrelevante se comparado com certos grupos que temos nos EUA e Brasil..\n",
            "इंस्टीट्यूट ऑफ चार्टर्ड अकाउंटेंट्स ऑफ इंडिया ((ICAI) ) ने दिसंबर 2021 में आयोजित सीए इंटरमीडिएट परीक्षा के परिणाम कल 26 फरवरी 2022 को घोषित कर दिए हैं। साथ ही जारी की टापर्स की भी लिस्ट।\\n\\n#icairesults \\n\\nhttps://t.co/HGnjXqcU2K\n",
            "Barcellos talvez tenha sido o presidente do #Inter que mais teve o apoio do torcedor. Bastava fazer o que prometeu na campanha. Aliás, aviso não faltou de que se abraçar num vestiário perdedor como esse lhe levaria à ruína. Está na iminência de implodir sua gestão\n",
            "@csguimaraes Inter, sem dúvida\n",
            "Barcellos talvez tenha sido o presidente do #Inter que mais teve o apoio do torcedor. Bastava fazer o que prometeu na campanha. Aliás, aviso não faltou de que se abraçar num vestiário perdedor como esse lhe levaria à ruína. Está na iminência de implodir sua gestão\n",
            "@Inter_9yousuf اخر فتره له ضايع شوي مع الانتر. بس لاعب صغير وجيد\n",
            "Muitos ficam desdenhando da campanha do Fluminense até aqui. Só que se formos analisar os demais times da série A, a grande maioria estão muito mal. Só Palmeiras, Fluminense e Atlético estão conseguindo os resultados. Vários estão em situação bem ruim. Como o Inter, por exemplo. https://t.co/L7WwbLDHfW\n",
            "Muitos ficam desdenhando da campanha do Fluminense até aqui. Só que se formos analisar os demais times da série A, a grande maioria estão muito mal. Só Palmeiras, Fluminense e Atlético estão conseguindo os resultados. Vários estão em situação bem ruim. Como o Inter, por exemplo. https://t.co/L7WwbLDHfW\n",
            "@Inter_id @SerieA_ID @gruppo_a2a Y kali ga menang, full skuaad jgn diremehin nterrrr\n",
            "@MichalNovicki @PluszakStary @RSF_inter @PabVis @RSF_ES https://t.co/vmHtTCaoTY\n",
            "Única coisa que o Inter ainda tem é torcida e estádio, de resto não sobrou nada...  nem vergonha na cara\n",
            "@RSF_inter @PabVis @RSF_ES If he is innocent he will not be in danger. Poland has no interest in harming Spaniards. But if it's a Russian spy, the guy's in trouble\n",
            "Eitaaa, Grêmio e Inter eliminados da CB. Que faseeeeeeeee\n",
            "e o gabi em 3 anos tem mais brasileirao q o inter em 45 anos https://t.co/pMeOaEZFfR\n",
            "Infelizmente não consegui assistir o jogo do inter ontem, alguém pode me falar de quanto o todo poderoso internacional goleou o Globo?\n",
            "FORA BARCELLOS E TODA SUA GENTE!!\\n\\nPapaléo, Bracks, Dubin, Medina, CAPA… incompetentes, vocês acabaram com o Internacional!\\n\\nCOVARDES SEM HONRA!!\\n\\nGreNAL é OBRIGAÇÃO!\\n\\nGuarda Popular\\nA Barra do Inter https://t.co/9FsXdQGxjh\n",
            "o Grêmio é minha depressão e o inter meu antidepressivo\n",
            "📄 I convocati per Inter - Salernitana 👇\\n\\n#InterSalernitana #macteanimo #forzagranata https://t.co/u8K65acJhC\n",
            "Pela carreira do Medina o grande erro dele foi ter vindo para o Inter. O Ramirez cometeu o mesmo erro. Ambos vieram de belos trabalhos e tinham opções mais sólidas. Aqui encontraram um vestiário fechado, com lideranças negativas e uma direção omissa. Nada é por acaso!!!\n",
            "Muitos ficam desdenhando da campanha do Fluminense até aqui. Só que se formos analisar os demais times da série A, a grande maioria estão muito mal. Só Palmeiras, Fluminense e Atlético estão conseguindo os resultados. Vários estão em situação bem ruim. Como o Inter, por exemplo. https://t.co/L7WwbLDHfW\n",
            "e o gabi em 3 anos tem mais brasileirao q o inter em 45 anos https://t.co/pMeOaEZFfR\n",
            "@legsturdyprog @PluszakStary @RSF_inter @PabVis @RSF_ES Btw. You really don't know what you are talking about. There aren't any known cases where ABW was accused of breaking the law. It's all about so called \"reform of the judiciary system\". Totally different things.\n",
            "e o gabi em 3 anos tem mais brasileirao q o inter em 45 anos https://t.co/pMeOaEZFfR\n",
            "É Grêmio caindo pro Mirassol. É Inter caindo pro Globo. É Vasco e São Paulo sofrendo contra Ferroviária e Campinense\\n\\nIsso tudo na primeira fase da Copa do Brasil. Só maluco ainda acha que somente camisa e tradição garantem alguma coisa no futebol\n",
            "Yuri Alberto já meteu 3 gols na Europa e o Inter não passou?\\n\\nPoxa kkkkkkk\n",
            "Pela carreira do Medina o grande erro dele foi ter vindo para o Inter. O Ramirez cometeu o mesmo erro. Ambos vieram de belos trabalhos e tinham opções mais sólidas. Aqui encontraram um vestiário fechado, com lideranças negativas e uma direção omissa. Nada é por acaso!!!\n",
            "@SCInternacional Meu Inter tem que acabar, buá buá\n",
            "🟩 COTES BOOSTÉES \\n\\n🚀Victoire Inter 🤩\\n🚀Victoire Lyon 🤩\\n🚀Victoire Séville 🤩\\n\\n📍Et les deux équipes marquent dans tous les matchs 💸🤩\\n\\n✳️ Cote globale 5️⃣1️⃣.0️⃣0️⃣🤩💵🤩 \\n\\n↪https://t.co/scWv6sVKKI \\n\\n⭕Cotes sujettes au changement \\n\\n#BetaOlongiTofuti #PremierBetRDC https://t.co/r93nQCUocl\n",
            "O nome do time é Globo, mas o que fizeram com o Inter foi digno de Sex Hot!\n",
            "@RSF_inter @PabVis @RSF_ES Funny how people deleted their tweets when he comes out as GRU spy 😆\n",
            "Caralho, tinha certeza que ia ver um Brasiliense e Inter aqui em Brasília pqp kkkkkkkkkk\n",
            "La @Fondationfemmes a dévoilé ce 2 mars sur France Inter les résultats d’une évaluation du coût global des inégalités et des violences en France. Les chiffres sont vertigineux. https://t.co/avuerp7R7x\n",
            "Chissà se riuscirò a festeggiare un gol dell'Inter prima di essere usccis4 dalle scorie nucleari\n",
            "@Alexandre_Ernst Tem que sair o treinador SIM. Não se vê UMA jogada técnica a não ser troca de passes entre os zagueiros do Inter. Mas quando irão responsabilizar os JOGADORES? Até quando irão passar a mao na cabeça de jogador SEM SANGUE,jogador RUIM que acha q tem o direito de escolher treinador\n",
            "Inter e Grêmio eliminados da Copa do Brasil na primeira fase... A dupla Gre-Nal ta como 🔥 kkkkkkkkkkkkkkkkkkkkk https://t.co/CsSNsC3m4Q\n",
            "Após fracasso na Copa do Brasil, Inter se reúne para definir futuro de Medina e dirigentes | internacional | ge https://t.co/JmrtqTXL1H\n",
            "@fralittera Ah ma parli dell’Inter\n",
            "@AlanTomazelli @SCInternacional Não entendo por que chamam  o Internacional de time grande. Clube pequeno, 43 anos sem brasileiro, 30 sem copa do Brasil, vice da série B, etc. Vejo clubes maiores como Vasco, Fortaleza, Ypiranga e Globo . Inter  é sustentado pelo Grêmio.\n",
            "@oBolaNasCostas De um novo tempo, que começou...\\nNesses novos dias, as alegrias serão DOS OUTROS...\\nÉ só querer...\\nGrenal vai ser uma várzea, o ruim contra o pior. \\nInter não pode ver uma vergonha que quer passar. Até parece o meu Grêmio, alguém conhece um bom time de Bocha? 🤡🤡🤡\n",
            "CURIOSIDADE: O Inter acaba de perder para o Globo e ser eliminado na primeira fase da Copa do Brasil. O Globo tem nove anos de fundação...\\n\\nhttps://t.co/oZwNta2c9v\n",
            "@RSF_inter @PabVis @RSF_ES Guy had two passports(on different name) and two set of credit cards - Who can he be? Oh i know innocent jurnalist\n",
            "Nino do Globo ri da cara do Internacional. Isso que o Inter virou.\n",
            "Globo sexto no potiguar, pior defesa da Copa do Nordeste sofrendo várias goleadas. Mirassol uma derrota em nove jogos no Paulista, venceu RB e Santos. Fiasco da Dupla? Pode ser, mas o vexame do Inter foi maior. Inexplicável.\n",
            "@J18347597 @matalaz @JaTenObcy @RSF_inter @PabVis @RSF_ES 😂\n",
            "e o gabi em 3 anos tem mais brasileirao q o inter em 45 anos https://t.co/pMeOaEZFfR\n",
            "Barcellos talvez tenha sido o presidente do #Inter que mais teve o apoio do torcedor. Bastava fazer o que prometeu na campanha. Aliás, aviso não faltou de que se abraçar num vestiário perdedor como esse lhe levaria à ruína. Está na iminência de implodir sua gestão\n",
            "inter consegue perder pra ele mesmo, jogou sozinho, jogou contra ninguém e foi eliminado, parei de inter\n",
            "o Grêmio até me decepciona já o Inter nunca, bom dia\n",
            "O pior jogo da história pra mim havia sido Inter 0 X 1 Boa Esporte. Independente do que aconteça a partir de agora, esse já é o pior jogo da história.\n",
            "José Mourinho, on his last day at Inter:\\n\\n\"After the final, I decided I was going to Real Madrid. I didn't go to the dressing room, I didn't go to the bus, because if I did, I think I would've wanted to stay. So I tried to run away, but I saw one of my players... I had to stop.\" https://t.co/a5W1EsxGaY\n",
            "O Inter precisa de uma mudança profunda. Não adianta mudar estrutura de futebol, novo técnico e seguir refém de um grupo de jogadores como o que tem. O nível de contratação demonstra um apequenamento.\n",
            "@RSF_inter @PabVis @RSF_ES Polish gov has just revealed that they detained Spanish national with Russian origin who was working for Russian GRU with a journalist's cover. That's him probably\n",
            "@Geh_1909 O que o inter faz com as pessoas\n",
            "O INTER TOMOU 2 A 0 AO NATURAL (FORA O BAILE) E FOI ELIMINADO DA COPA DO BRASIL POR UM TIME:\\n\\n✅ SEM DIVISÃO \\n✅ COM NOME SUJEITO A PIADA\\n✅ COM PATROCÍNIO DA FATAL MODEL\\n✅ COM A TORCIDA GRITANDO OLÉ, “ELIMINADO” E BUZINA\\n\\nAÍ É FODA\n"
          ]
        }
      ]
    },
    {
      "cell_type": "code",
      "source": [
        "for item in df.lang:\n",
        "  print(item)"
      ],
      "metadata": {
        "id": "IcDCkvCsiRd9"
      },
      "execution_count": null,
      "outputs": []
    }
  ]
}